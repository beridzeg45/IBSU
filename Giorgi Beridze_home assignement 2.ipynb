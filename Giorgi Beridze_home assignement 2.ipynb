{
 "cells": [
  {
   "cell_type": "code",
   "execution_count": 5,
   "id": "c50969f8",
   "metadata": {},
   "outputs": [],
   "source": [
    "import pandas as pd\n",
    "import numpy as np\n",
    "import matplotlib.pyplot as plt\n",
    "import seaborn as sns"
   ]
  },
  {
   "cell_type": "code",
   "execution_count": 6,
   "id": "6dbf64c8",
   "metadata": {},
   "outputs": [],
   "source": [
    "df=pd.read_csv('merged2.csv')"
   ]
  },
  {
   "cell_type": "code",
   "execution_count": 31,
   "id": "f93e1b7c",
   "metadata": {},
   "outputs": [
    {
     "name": "stdout",
     "output_type": "stream",
     "text": [
      "Giorgi Beridze\n"
     ]
    }
   ],
   "source": [
    "print('Giorgi Beridze')"
   ]
  },
  {
   "cell_type": "markdown",
   "id": "265906b7",
   "metadata": {},
   "source": [
    "# Nestle wants to enter Africa "
   ]
  },
  {
   "cell_type": "markdown",
   "id": "76ca5ab0",
   "metadata": {},
   "source": [
    "**Business climate in African countries is getting better and better for the last decade. This means that GDP per capita is getting higher as well as other economic KPIs which determine the wellness of the county's economy. Except for the economic growth, demographic situation is also changing in African countries. Urban population (and population in general) is rapidly increasing. Apart from this, internet penetration is becoming higher in most of the countries, which contributes to higher education/awareness level of the developing world and lower ignorance among population.**\n",
    "\n",
    "**All these factors make African continent one of the most desirable region for internation businesses to operate into. Nestle is definately one of those, who would like to penetrate into African market and become a leader in food and beverage industry.**\n",
    "\n",
    "**I think, the most important KPI, that Nestle should consider is Average GDP annual growth rate, which indicates the economic groth of the country, as well as , GDP per capita, which shows what economic situation is like in the country at this moment. Another very important factor would be population, because more population is translated into more consumers, as well as median age, which can determine the target audience of the business. Percentage of urban population is also very important.**"
   ]
  },
  {
   "cell_type": "markdown",
   "id": "fe9c66f1",
   "metadata": {},
   "source": [
    "# DEMOGRAPHIC AND ECONOMICAL DATA FOR AFRICAN COUNTRIES"
   ]
  },
  {
   "cell_type": "code",
   "execution_count": 37,
   "id": "5f9c2e99",
   "metadata": {},
   "outputs": [
    {
     "data": {
      "text/html": [
       "<div>\n",
       "<style scoped>\n",
       "    .dataframe tbody tr th:only-of-type {\n",
       "        vertical-align: middle;\n",
       "    }\n",
       "\n",
       "    .dataframe tbody tr th {\n",
       "        vertical-align: top;\n",
       "    }\n",
       "\n",
       "    .dataframe thead th {\n",
       "        text-align: right;\n",
       "    }\n",
       "</style>\n",
       "<table border=\"1\" class=\"dataframe\">\n",
       "  <thead>\n",
       "    <tr style=\"text-align: right;\">\n",
       "      <th></th>\n",
       "      <th>Country</th>\n",
       "      <th>TotalNominalGDP2019(billion $USD)</th>\n",
       "      <th>GDP per capita 2019 ($USD)</th>\n",
       "      <th>Average annual GDP growth 2010-2019 (%)</th>\n",
       "      <th>Population</th>\n",
       "      <th>Population annual growth (%)</th>\n",
       "      <th>Median Age</th>\n",
       "      <th>Urban Population (%)</th>\n",
       "      <th>ISO3Code</th>\n",
       "    </tr>\n",
       "  </thead>\n",
       "  <tbody>\n",
       "    <tr>\n",
       "      <th>0</th>\n",
       "      <td>Algeria</td>\n",
       "      <td>169.30</td>\n",
       "      <td>11729.00</td>\n",
       "      <td>2.6</td>\n",
       "      <td>45753509</td>\n",
       "      <td>1.70</td>\n",
       "      <td>29</td>\n",
       "      <td>73</td>\n",
       "      <td>DZA</td>\n",
       "    </tr>\n",
       "    <tr>\n",
       "      <th>1</th>\n",
       "      <td>Angola</td>\n",
       "      <td>89.40</td>\n",
       "      <td>7384.00</td>\n",
       "      <td>1.9</td>\n",
       "      <td>35405823</td>\n",
       "      <td>3.52</td>\n",
       "      <td>17</td>\n",
       "      <td>67</td>\n",
       "      <td>AGO</td>\n",
       "    </tr>\n",
       "    <tr>\n",
       "      <th>2</th>\n",
       "      <td>Benin</td>\n",
       "      <td>14.40</td>\n",
       "      <td>3423.00</td>\n",
       "      <td>5.1</td>\n",
       "      <td>12902012</td>\n",
       "      <td>2.71</td>\n",
       "      <td>19</td>\n",
       "      <td>48</td>\n",
       "      <td>BEN</td>\n",
       "    </tr>\n",
       "    <tr>\n",
       "      <th>3</th>\n",
       "      <td>Botswana</td>\n",
       "      <td>18.50</td>\n",
       "      <td>17949.00</td>\n",
       "      <td>4.3</td>\n",
       "      <td>2466321</td>\n",
       "      <td>1.55</td>\n",
       "      <td>24</td>\n",
       "      <td>73</td>\n",
       "      <td>BWA</td>\n",
       "    </tr>\n",
       "    <tr>\n",
       "      <th>4</th>\n",
       "      <td>Burkina Faso</td>\n",
       "      <td>15.70</td>\n",
       "      <td>2282.00</td>\n",
       "      <td>5.7</td>\n",
       "      <td>22313534</td>\n",
       "      <td>3.00</td>\n",
       "      <td>18</td>\n",
       "      <td>31</td>\n",
       "      <td>BFA</td>\n",
       "    </tr>\n",
       "    <tr>\n",
       "      <th>5</th>\n",
       "      <td>Burundi</td>\n",
       "      <td>3.10</td>\n",
       "      <td>821.00</td>\n",
       "      <td>2.0</td>\n",
       "      <td>12767455</td>\n",
       "      <td>3.25</td>\n",
       "      <td>17</td>\n",
       "      <td>14</td>\n",
       "      <td>BDI</td>\n",
       "    </tr>\n",
       "    <tr>\n",
       "      <th>6</th>\n",
       "      <td>Cameroon</td>\n",
       "      <td>38.90</td>\n",
       "      <td>3856.00</td>\n",
       "      <td>4.6</td>\n",
       "      <td>28161144</td>\n",
       "      <td>2.56</td>\n",
       "      <td>19</td>\n",
       "      <td>56</td>\n",
       "      <td>CMR</td>\n",
       "    </tr>\n",
       "    <tr>\n",
       "      <th>7</th>\n",
       "      <td>Central African Republic</td>\n",
       "      <td>2.30</td>\n",
       "      <td>985.00</td>\n",
       "      <td>-1.8</td>\n",
       "      <td>5031186</td>\n",
       "      <td>2.12</td>\n",
       "      <td>18</td>\n",
       "      <td>43</td>\n",
       "      <td>CAF</td>\n",
       "    </tr>\n",
       "    <tr>\n",
       "      <th>8</th>\n",
       "      <td>Chad</td>\n",
       "      <td>10.90</td>\n",
       "      <td>1654.00</td>\n",
       "      <td>2.2</td>\n",
       "      <td>17589364</td>\n",
       "      <td>1.86</td>\n",
       "      <td>17</td>\n",
       "      <td>23</td>\n",
       "      <td>TCD</td>\n",
       "    </tr>\n",
       "    <tr>\n",
       "      <th>9</th>\n",
       "      <td>Comoros</td>\n",
       "      <td>1.20</td>\n",
       "      <td>3108.00</td>\n",
       "      <td>3.1</td>\n",
       "      <td>914472</td>\n",
       "      <td>1.64</td>\n",
       "      <td>20</td>\n",
       "      <td>29</td>\n",
       "      <td>COM</td>\n",
       "    </tr>\n",
       "    <tr>\n",
       "      <th>10</th>\n",
       "      <td>Djibouti</td>\n",
       "      <td>3.30</td>\n",
       "      <td>5195.00</td>\n",
       "      <td>6.6</td>\n",
       "      <td>1022219</td>\n",
       "      <td>2.16</td>\n",
       "      <td>27</td>\n",
       "      <td>79</td>\n",
       "      <td>DJI</td>\n",
       "    </tr>\n",
       "    <tr>\n",
       "      <th>11</th>\n",
       "      <td>Egypt</td>\n",
       "      <td>302.30</td>\n",
       "      <td>12391.00</td>\n",
       "      <td>3.8</td>\n",
       "      <td>106981048</td>\n",
       "      <td>2.45</td>\n",
       "      <td>25</td>\n",
       "      <td>43</td>\n",
       "      <td>EGY</td>\n",
       "    </tr>\n",
       "    <tr>\n",
       "      <th>12</th>\n",
       "      <td>Equatorial Guinea</td>\n",
       "      <td>11.80</td>\n",
       "      <td>19291.00</td>\n",
       "      <td>-2.9</td>\n",
       "      <td>1518007</td>\n",
       "      <td>2.44</td>\n",
       "      <td>22</td>\n",
       "      <td>73</td>\n",
       "      <td>GNQ</td>\n",
       "    </tr>\n",
       "    <tr>\n",
       "      <th>13</th>\n",
       "      <td>Eritrea</td>\n",
       "      <td>2.00</td>\n",
       "      <td>1836.00</td>\n",
       "      <td>3.4</td>\n",
       "      <td>3663117</td>\n",
       "      <td>0.85</td>\n",
       "      <td>19</td>\n",
       "      <td>63</td>\n",
       "      <td>ERI</td>\n",
       "    </tr>\n",
       "    <tr>\n",
       "      <th>14</th>\n",
       "      <td>Ethiopia</td>\n",
       "      <td>92.80</td>\n",
       "      <td>2724.00</td>\n",
       "      <td>9.5</td>\n",
       "      <td>121922416</td>\n",
       "      <td>2.85</td>\n",
       "      <td>19</td>\n",
       "      <td>21</td>\n",
       "      <td>ETH</td>\n",
       "    </tr>\n",
       "    <tr>\n",
       "      <th>15</th>\n",
       "      <td>Gabon</td>\n",
       "      <td>16.90</td>\n",
       "      <td>16273.00</td>\n",
       "      <td>3.7</td>\n",
       "      <td>2353692</td>\n",
       "      <td>1.92</td>\n",
       "      <td>23</td>\n",
       "      <td>87</td>\n",
       "      <td>GAB</td>\n",
       "    </tr>\n",
       "    <tr>\n",
       "      <th>16</th>\n",
       "      <td>Gambia</td>\n",
       "      <td>1.80</td>\n",
       "      <td>2316.00</td>\n",
       "      <td>2.4</td>\n",
       "      <td>2584004</td>\n",
       "      <td>2.05</td>\n",
       "      <td>18</td>\n",
       "      <td>59</td>\n",
       "      <td>GMB</td>\n",
       "    </tr>\n",
       "    <tr>\n",
       "      <th>17</th>\n",
       "      <td>Ghana</td>\n",
       "      <td>67.00</td>\n",
       "      <td>5688.00</td>\n",
       "      <td>6.5</td>\n",
       "      <td>32642373</td>\n",
       "      <td>2.17</td>\n",
       "      <td>22</td>\n",
       "      <td>57</td>\n",
       "      <td>GHA</td>\n",
       "    </tr>\n",
       "    <tr>\n",
       "      <th>18</th>\n",
       "      <td>Guinea</td>\n",
       "      <td>13.80</td>\n",
       "      <td>2506.00</td>\n",
       "      <td>6.2</td>\n",
       "      <td>14008576</td>\n",
       "      <td>2.61</td>\n",
       "      <td>18</td>\n",
       "      <td>39</td>\n",
       "      <td>GIN</td>\n",
       "    </tr>\n",
       "    <tr>\n",
       "      <th>19</th>\n",
       "      <td>Guinea-Bissau</td>\n",
       "      <td>1.40</td>\n",
       "      <td>2429.00</td>\n",
       "      <td>3.8</td>\n",
       "      <td>2081340</td>\n",
       "      <td>1.86</td>\n",
       "      <td>19</td>\n",
       "      <td>45</td>\n",
       "      <td>GNB</td>\n",
       "    </tr>\n",
       "    <tr>\n",
       "      <th>20</th>\n",
       "      <td>Kenya</td>\n",
       "      <td>95.40</td>\n",
       "      <td>4985.00</td>\n",
       "      <td>5.6</td>\n",
       "      <td>56645588</td>\n",
       "      <td>1.69</td>\n",
       "      <td>20</td>\n",
       "      <td>28</td>\n",
       "      <td>KEN</td>\n",
       "    </tr>\n",
       "    <tr>\n",
       "      <th>21</th>\n",
       "      <td>Lesotho</td>\n",
       "      <td>2.40</td>\n",
       "      <td>3010.00</td>\n",
       "      <td>2.8</td>\n",
       "      <td>2182040</td>\n",
       "      <td>0.28</td>\n",
       "      <td>24</td>\n",
       "      <td>31</td>\n",
       "      <td>LSO</td>\n",
       "    </tr>\n",
       "    <tr>\n",
       "      <th>22</th>\n",
       "      <td>Liberia</td>\n",
       "      <td>3.20</td>\n",
       "      <td>1601.00</td>\n",
       "      <td>2.7</td>\n",
       "      <td>5347243</td>\n",
       "      <td>2.50</td>\n",
       "      <td>19</td>\n",
       "      <td>53</td>\n",
       "      <td>LBR</td>\n",
       "    </tr>\n",
       "    <tr>\n",
       "      <th>23</th>\n",
       "      <td>Libya</td>\n",
       "      <td>39.80</td>\n",
       "      <td>14174.00</td>\n",
       "      <td>-10.2</td>\n",
       "      <td>7093307</td>\n",
       "      <td>1.58</td>\n",
       "      <td>29</td>\n",
       "      <td>78</td>\n",
       "      <td>LBY</td>\n",
       "    </tr>\n",
       "    <tr>\n",
       "      <th>24</th>\n",
       "      <td>Madagascar</td>\n",
       "      <td>14.10</td>\n",
       "      <td>1720.00</td>\n",
       "      <td>3.4</td>\n",
       "      <td>29434823</td>\n",
       "      <td>2.50</td>\n",
       "      <td>20</td>\n",
       "      <td>39</td>\n",
       "      <td>MDG</td>\n",
       "    </tr>\n",
       "    <tr>\n",
       "      <th>25</th>\n",
       "      <td>Malawi</td>\n",
       "      <td>7.70</td>\n",
       "      <td>1004.00</td>\n",
       "      <td>3.8</td>\n",
       "      <td>20341255</td>\n",
       "      <td>3.31</td>\n",
       "      <td>18</td>\n",
       "      <td>18</td>\n",
       "      <td>MWI</td>\n",
       "    </tr>\n",
       "    <tr>\n",
       "      <th>26</th>\n",
       "      <td>Mali</td>\n",
       "      <td>17.30</td>\n",
       "      <td>2508.00</td>\n",
       "      <td>4.3</td>\n",
       "      <td>21691072</td>\n",
       "      <td>3.02</td>\n",
       "      <td>16</td>\n",
       "      <td>44</td>\n",
       "      <td>MLI</td>\n",
       "    </tr>\n",
       "    <tr>\n",
       "      <th>27</th>\n",
       "      <td>Mauritania</td>\n",
       "      <td>7.60</td>\n",
       "      <td>6036.00</td>\n",
       "      <td>3.9</td>\n",
       "      <td>4949486</td>\n",
       "      <td>2.17</td>\n",
       "      <td>20</td>\n",
       "      <td>57</td>\n",
       "      <td>MRT</td>\n",
       "    </tr>\n",
       "    <tr>\n",
       "      <th>28</th>\n",
       "      <td>Mauritius</td>\n",
       "      <td>14.00</td>\n",
       "      <td>23819.00</td>\n",
       "      <td>3.6</td>\n",
       "      <td>1276638</td>\n",
       "      <td>0.59</td>\n",
       "      <td>37</td>\n",
       "      <td>41</td>\n",
       "      <td>MUS</td>\n",
       "    </tr>\n",
       "    <tr>\n",
       "      <th>29</th>\n",
       "      <td>Morocco</td>\n",
       "      <td>118.60</td>\n",
       "      <td>8148.00</td>\n",
       "      <td>3.4</td>\n",
       "      <td>37945593</td>\n",
       "      <td>0.97</td>\n",
       "      <td>30</td>\n",
       "      <td>64</td>\n",
       "      <td>MAR</td>\n",
       "    </tr>\n",
       "    <tr>\n",
       "      <th>30</th>\n",
       "      <td>Mozambique</td>\n",
       "      <td>15.20</td>\n",
       "      <td>1302.00</td>\n",
       "      <td>5.4</td>\n",
       "      <td>33413232</td>\n",
       "      <td>2.46</td>\n",
       "      <td>18</td>\n",
       "      <td>38</td>\n",
       "      <td>MOZ</td>\n",
       "    </tr>\n",
       "    <tr>\n",
       "      <th>31</th>\n",
       "      <td>Namibia</td>\n",
       "      <td>12.50</td>\n",
       "      <td>10279.00</td>\n",
       "      <td>2.8</td>\n",
       "      <td>2651478</td>\n",
       "      <td>1.95</td>\n",
       "      <td>22</td>\n",
       "      <td>55</td>\n",
       "      <td>NAM</td>\n",
       "    </tr>\n",
       "    <tr>\n",
       "      <th>32</th>\n",
       "      <td>Niger</td>\n",
       "      <td>12.90</td>\n",
       "      <td>1276.00</td>\n",
       "      <td>5.9</td>\n",
       "      <td>26412604</td>\n",
       "      <td>3.19</td>\n",
       "      <td>15</td>\n",
       "      <td>17</td>\n",
       "      <td>NER</td>\n",
       "    </tr>\n",
       "    <tr>\n",
       "      <th>33</th>\n",
       "      <td>Nigeria</td>\n",
       "      <td>448.10</td>\n",
       "      <td>5353.00</td>\n",
       "      <td>3.0</td>\n",
       "      <td>218625385</td>\n",
       "      <td>2.43</td>\n",
       "      <td>18</td>\n",
       "      <td>52</td>\n",
       "      <td>NGA</td>\n",
       "    </tr>\n",
       "    <tr>\n",
       "      <th>34</th>\n",
       "      <td>Rwanda</td>\n",
       "      <td>10.10</td>\n",
       "      <td>2363.00</td>\n",
       "      <td>7.6</td>\n",
       "      <td>13736863</td>\n",
       "      <td>2.45</td>\n",
       "      <td>20</td>\n",
       "      <td>18</td>\n",
       "      <td>RWA</td>\n",
       "    </tr>\n",
       "    <tr>\n",
       "      <th>35</th>\n",
       "      <td>Senegal</td>\n",
       "      <td>23.60</td>\n",
       "      <td>3536.00</td>\n",
       "      <td>5.3</td>\n",
       "      <td>17826571</td>\n",
       "      <td>2.39</td>\n",
       "      <td>19</td>\n",
       "      <td>49</td>\n",
       "      <td>SEN</td>\n",
       "    </tr>\n",
       "    <tr>\n",
       "      <th>36</th>\n",
       "      <td>Seychelles</td>\n",
       "      <td>1.70</td>\n",
       "      <td>30430.00</td>\n",
       "      <td>4.6</td>\n",
       "      <td>99768</td>\n",
       "      <td>0.77</td>\n",
       "      <td>34</td>\n",
       "      <td>56</td>\n",
       "      <td>SYC</td>\n",
       "    </tr>\n",
       "    <tr>\n",
       "      <th>37</th>\n",
       "      <td>Sierra Leone</td>\n",
       "      <td>4.20</td>\n",
       "      <td>1778.00</td>\n",
       "      <td>4.4</td>\n",
       "      <td>8368970</td>\n",
       "      <td>2.38</td>\n",
       "      <td>19</td>\n",
       "      <td>43</td>\n",
       "      <td>SLE</td>\n",
       "    </tr>\n",
       "    <tr>\n",
       "      <th>38</th>\n",
       "      <td>Somalia</td>\n",
       "      <td>5.20</td>\n",
       "      <td>888.00</td>\n",
       "      <td>NaN</td>\n",
       "      <td>16985528</td>\n",
       "      <td>2.00</td>\n",
       "      <td>17</td>\n",
       "      <td>47</td>\n",
       "      <td>SOM</td>\n",
       "    </tr>\n",
       "    <tr>\n",
       "      <th>39</th>\n",
       "      <td>South Africa</td>\n",
       "      <td>351.40</td>\n",
       "      <td>12962.00</td>\n",
       "      <td>1.5</td>\n",
       "      <td>61081076</td>\n",
       "      <td>0.99</td>\n",
       "      <td>28</td>\n",
       "      <td>67</td>\n",
       "      <td>ZAF</td>\n",
       "    </tr>\n",
       "    <tr>\n",
       "      <th>40</th>\n",
       "      <td>South Sudan</td>\n",
       "      <td>4.90</td>\n",
       "      <td>862.00</td>\n",
       "      <td>NaN</td>\n",
       "      <td>11504110</td>\n",
       "      <td>3.83</td>\n",
       "      <td>19</td>\n",
       "      <td>25</td>\n",
       "      <td>SSD</td>\n",
       "    </tr>\n",
       "    <tr>\n",
       "      <th>41</th>\n",
       "      <td>Sudan</td>\n",
       "      <td>33.40</td>\n",
       "      <td>4140.00</td>\n",
       "      <td>-1.6</td>\n",
       "      <td>46342103</td>\n",
       "      <td>1.64</td>\n",
       "      <td>20</td>\n",
       "      <td>35</td>\n",
       "      <td>SDN</td>\n",
       "    </tr>\n",
       "    <tr>\n",
       "      <th>42</th>\n",
       "      <td>Tanzania</td>\n",
       "      <td>60.80</td>\n",
       "      <td>2841.00</td>\n",
       "      <td>6.7</td>\n",
       "      <td>63931876</td>\n",
       "      <td>2.75</td>\n",
       "      <td>18</td>\n",
       "      <td>37</td>\n",
       "      <td>TZA</td>\n",
       "    </tr>\n",
       "    <tr>\n",
       "      <th>43</th>\n",
       "      <td>Togo</td>\n",
       "      <td>5.50</td>\n",
       "      <td>1657.00</td>\n",
       "      <td>5.6</td>\n",
       "      <td>8751274</td>\n",
       "      <td>2.64</td>\n",
       "      <td>19</td>\n",
       "      <td>43</td>\n",
       "      <td>TGO</td>\n",
       "    </tr>\n",
       "    <tr>\n",
       "      <th>44</th>\n",
       "      <td>Tunisia</td>\n",
       "      <td>38.80</td>\n",
       "      <td>11125.00</td>\n",
       "      <td>1.8</td>\n",
       "      <td>12110192</td>\n",
       "      <td>1.01</td>\n",
       "      <td>33</td>\n",
       "      <td>70</td>\n",
       "      <td>TUN</td>\n",
       "    </tr>\n",
       "    <tr>\n",
       "      <th>45</th>\n",
       "      <td>Uganda</td>\n",
       "      <td>36.50</td>\n",
       "      <td>2646.00</td>\n",
       "      <td>5.2</td>\n",
       "      <td>49333704</td>\n",
       "      <td>3.20</td>\n",
       "      <td>17</td>\n",
       "      <td>26</td>\n",
       "      <td>UGA</td>\n",
       "    </tr>\n",
       "    <tr>\n",
       "      <th>46</th>\n",
       "      <td>Zambia</td>\n",
       "      <td>24.20</td>\n",
       "      <td>3526.00</td>\n",
       "      <td>4.3</td>\n",
       "      <td>19652620</td>\n",
       "      <td>2.93</td>\n",
       "      <td>18</td>\n",
       "      <td>45</td>\n",
       "      <td>ZMB</td>\n",
       "    </tr>\n",
       "    <tr>\n",
       "      <th>47</th>\n",
       "      <td>Zimbabwe</td>\n",
       "      <td>18.70</td>\n",
       "      <td>2896.00</td>\n",
       "      <td>4.2</td>\n",
       "      <td>15378243</td>\n",
       "      <td>1.56</td>\n",
       "      <td>19</td>\n",
       "      <td>38</td>\n",
       "      <td>ZWE</td>\n",
       "    </tr>\n",
       "    <tr>\n",
       "      <th>48</th>\n",
       "      <td>Democratic Republic of the Congo</td>\n",
       "      <td>49.87</td>\n",
       "      <td>556.81</td>\n",
       "      <td>0.8</td>\n",
       "      <td>89561403</td>\n",
       "      <td>3.10</td>\n",
       "      <td>19</td>\n",
       "      <td>47</td>\n",
       "      <td>COD</td>\n",
       "    </tr>\n",
       "  </tbody>\n",
       "</table>\n",
       "</div>"
      ],
      "text/plain": [
       "                             Country  TotalNominalGDP2019(billion $USD)  \\\n",
       "0                            Algeria                             169.30   \n",
       "1                             Angola                              89.40   \n",
       "2                              Benin                              14.40   \n",
       "3                           Botswana                              18.50   \n",
       "4                       Burkina Faso                              15.70   \n",
       "5                            Burundi                               3.10   \n",
       "6                           Cameroon                              38.90   \n",
       "7           Central African Republic                               2.30   \n",
       "8                               Chad                              10.90   \n",
       "9                            Comoros                               1.20   \n",
       "10                          Djibouti                               3.30   \n",
       "11                             Egypt                             302.30   \n",
       "12                 Equatorial Guinea                              11.80   \n",
       "13                           Eritrea                               2.00   \n",
       "14                          Ethiopia                              92.80   \n",
       "15                             Gabon                              16.90   \n",
       "16                            Gambia                               1.80   \n",
       "17                             Ghana                              67.00   \n",
       "18                            Guinea                              13.80   \n",
       "19                     Guinea-Bissau                               1.40   \n",
       "20                             Kenya                              95.40   \n",
       "21                           Lesotho                               2.40   \n",
       "22                           Liberia                               3.20   \n",
       "23                             Libya                              39.80   \n",
       "24                        Madagascar                              14.10   \n",
       "25                            Malawi                               7.70   \n",
       "26                              Mali                              17.30   \n",
       "27                        Mauritania                               7.60   \n",
       "28                         Mauritius                              14.00   \n",
       "29                           Morocco                             118.60   \n",
       "30                        Mozambique                              15.20   \n",
       "31                           Namibia                              12.50   \n",
       "32                             Niger                              12.90   \n",
       "33                           Nigeria                             448.10   \n",
       "34                            Rwanda                              10.10   \n",
       "35                           Senegal                              23.60   \n",
       "36                        Seychelles                               1.70   \n",
       "37                      Sierra Leone                               4.20   \n",
       "38                           Somalia                               5.20   \n",
       "39                      South Africa                             351.40   \n",
       "40                       South Sudan                               4.90   \n",
       "41                             Sudan                              33.40   \n",
       "42                          Tanzania                              60.80   \n",
       "43                              Togo                               5.50   \n",
       "44                           Tunisia                              38.80   \n",
       "45                            Uganda                              36.50   \n",
       "46                            Zambia                              24.20   \n",
       "47                          Zimbabwe                              18.70   \n",
       "48  Democratic Republic of the Congo                              49.87   \n",
       "\n",
       "    GDP per capita 2019 ($USD)  Average annual GDP growth 2010-2019 (%)  \\\n",
       "0                     11729.00                                      2.6   \n",
       "1                      7384.00                                      1.9   \n",
       "2                      3423.00                                      5.1   \n",
       "3                     17949.00                                      4.3   \n",
       "4                      2282.00                                      5.7   \n",
       "5                       821.00                                      2.0   \n",
       "6                      3856.00                                      4.6   \n",
       "7                       985.00                                     -1.8   \n",
       "8                      1654.00                                      2.2   \n",
       "9                      3108.00                                      3.1   \n",
       "10                     5195.00                                      6.6   \n",
       "11                    12391.00                                      3.8   \n",
       "12                    19291.00                                     -2.9   \n",
       "13                     1836.00                                      3.4   \n",
       "14                     2724.00                                      9.5   \n",
       "15                    16273.00                                      3.7   \n",
       "16                     2316.00                                      2.4   \n",
       "17                     5688.00                                      6.5   \n",
       "18                     2506.00                                      6.2   \n",
       "19                     2429.00                                      3.8   \n",
       "20                     4985.00                                      5.6   \n",
       "21                     3010.00                                      2.8   \n",
       "22                     1601.00                                      2.7   \n",
       "23                    14174.00                                    -10.2   \n",
       "24                     1720.00                                      3.4   \n",
       "25                     1004.00                                      3.8   \n",
       "26                     2508.00                                      4.3   \n",
       "27                     6036.00                                      3.9   \n",
       "28                    23819.00                                      3.6   \n",
       "29                     8148.00                                      3.4   \n",
       "30                     1302.00                                      5.4   \n",
       "31                    10279.00                                      2.8   \n",
       "32                     1276.00                                      5.9   \n",
       "33                     5353.00                                      3.0   \n",
       "34                     2363.00                                      7.6   \n",
       "35                     3536.00                                      5.3   \n",
       "36                    30430.00                                      4.6   \n",
       "37                     1778.00                                      4.4   \n",
       "38                      888.00                                      NaN   \n",
       "39                    12962.00                                      1.5   \n",
       "40                      862.00                                      NaN   \n",
       "41                     4140.00                                     -1.6   \n",
       "42                     2841.00                                      6.7   \n",
       "43                     1657.00                                      5.6   \n",
       "44                    11125.00                                      1.8   \n",
       "45                     2646.00                                      5.2   \n",
       "46                     3526.00                                      4.3   \n",
       "47                     2896.00                                      4.2   \n",
       "48                      556.81                                      0.8   \n",
       "\n",
       "    Population  Population annual growth (%)  Median Age  \\\n",
       "0     45753509                          1.70          29   \n",
       "1     35405823                          3.52          17   \n",
       "2     12902012                          2.71          19   \n",
       "3      2466321                          1.55          24   \n",
       "4     22313534                          3.00          18   \n",
       "5     12767455                          3.25          17   \n",
       "6     28161144                          2.56          19   \n",
       "7      5031186                          2.12          18   \n",
       "8     17589364                          1.86          17   \n",
       "9       914472                          1.64          20   \n",
       "10     1022219                          2.16          27   \n",
       "11   106981048                          2.45          25   \n",
       "12     1518007                          2.44          22   \n",
       "13     3663117                          0.85          19   \n",
       "14   121922416                          2.85          19   \n",
       "15     2353692                          1.92          23   \n",
       "16     2584004                          2.05          18   \n",
       "17    32642373                          2.17          22   \n",
       "18    14008576                          2.61          18   \n",
       "19     2081340                          1.86          19   \n",
       "20    56645588                          1.69          20   \n",
       "21     2182040                          0.28          24   \n",
       "22     5347243                          2.50          19   \n",
       "23     7093307                          1.58          29   \n",
       "24    29434823                          2.50          20   \n",
       "25    20341255                          3.31          18   \n",
       "26    21691072                          3.02          16   \n",
       "27     4949486                          2.17          20   \n",
       "28     1276638                          0.59          37   \n",
       "29    37945593                          0.97          30   \n",
       "30    33413232                          2.46          18   \n",
       "31     2651478                          1.95          22   \n",
       "32    26412604                          3.19          15   \n",
       "33   218625385                          2.43          18   \n",
       "34    13736863                          2.45          20   \n",
       "35    17826571                          2.39          19   \n",
       "36       99768                          0.77          34   \n",
       "37     8368970                          2.38          19   \n",
       "38    16985528                          2.00          17   \n",
       "39    61081076                          0.99          28   \n",
       "40    11504110                          3.83          19   \n",
       "41    46342103                          1.64          20   \n",
       "42    63931876                          2.75          18   \n",
       "43     8751274                          2.64          19   \n",
       "44    12110192                          1.01          33   \n",
       "45    49333704                          3.20          17   \n",
       "46    19652620                          2.93          18   \n",
       "47    15378243                          1.56          19   \n",
       "48    89561403                          3.10          19   \n",
       "\n",
       "    Urban Population (%) ISO3Code  \n",
       "0                     73      DZA  \n",
       "1                     67      AGO  \n",
       "2                     48      BEN  \n",
       "3                     73      BWA  \n",
       "4                     31      BFA  \n",
       "5                     14      BDI  \n",
       "6                     56      CMR  \n",
       "7                     43      CAF  \n",
       "8                     23      TCD  \n",
       "9                     29      COM  \n",
       "10                    79      DJI  \n",
       "11                    43      EGY  \n",
       "12                    73      GNQ  \n",
       "13                    63      ERI  \n",
       "14                    21      ETH  \n",
       "15                    87      GAB  \n",
       "16                    59      GMB  \n",
       "17                    57      GHA  \n",
       "18                    39      GIN  \n",
       "19                    45      GNB  \n",
       "20                    28      KEN  \n",
       "21                    31      LSO  \n",
       "22                    53      LBR  \n",
       "23                    78      LBY  \n",
       "24                    39      MDG  \n",
       "25                    18      MWI  \n",
       "26                    44      MLI  \n",
       "27                    57      MRT  \n",
       "28                    41      MUS  \n",
       "29                    64      MAR  \n",
       "30                    38      MOZ  \n",
       "31                    55      NAM  \n",
       "32                    17      NER  \n",
       "33                    52      NGA  \n",
       "34                    18      RWA  \n",
       "35                    49      SEN  \n",
       "36                    56      SYC  \n",
       "37                    43      SLE  \n",
       "38                    47      SOM  \n",
       "39                    67      ZAF  \n",
       "40                    25      SSD  \n",
       "41                    35      SDN  \n",
       "42                    37      TZA  \n",
       "43                    43      TGO  \n",
       "44                    70      TUN  \n",
       "45                    26      UGA  \n",
       "46                    45      ZMB  \n",
       "47                    38      ZWE  \n",
       "48                    47      COD  "
      ]
     },
     "execution_count": 37,
     "metadata": {},
     "output_type": "execute_result"
    }
   ],
   "source": [
    "df"
   ]
  },
  {
   "cell_type": "code",
   "execution_count": 9,
   "id": "dd48ab3f",
   "metadata": {
    "scrolled": false
   },
   "outputs": [
    {
     "data": {
      "image/png": "[encoded data removed]",
      "text/plain": [
       "<Figure size 1080x360 with 1 Axes>"
      ]
     },
     "metadata": {
      "needs_background": "light"
     },
     "output_type": "display_data"
    },
    {
     "data": {
      "image/png": "[encoded data removed]",
      "text/plain": [
       "<Figure size 1080x360 with 1 Axes>"
      ]
     },
     "metadata": {
      "needs_background": "light"
     },
     "output_type": "display_data"
    },
    {
     "data": {
      "image/png": "[encoded data removed]",
      "text/plain": [
       "<Figure size 1080x360 with 1 Axes>"
      ]
     },
     "metadata": {
      "needs_background": "light"
     },
     "output_type": "display_data"
    },
    {
     "data": {
      "image/png": "[encoded data removed]",
      "text/plain": [
       "<Figure size 1080x360 with 1 Axes>"
      ]
     },
     "metadata": {
      "needs_background": "light"
     },
     "output_type": "display_data"
    },
    {
     "data": {
      "image/png": "[encoded data removed]",
      "text/plain": [
       "<Figure size 1080x360 with 1 Axes>"
      ]
     },
     "metadata": {
      "needs_background": "light"
     },
     "output_type": "display_data"
    },
    {
     "data": {
      "image/png": "[encoded data removed]",
      "text/plain": [
       "<Figure size 1080x360 with 1 Axes>"
      ]
     },
     "metadata": {
      "needs_background": "light"
     },
     "output_type": "display_data"
    }
   ],
   "source": [
    "columns=df.columns[2:-1]\n",
    "for column in columns:\n",
    "    plt.figure(figsize=(15,5))\n",
    "    plt.bar(df['Country'],df[column])\n",
    "    plt.title(f'{column} by country',fontweight='bold',size=15)\n",
    "    plt.xticks(df['Country'],rotation=90)\n",
    "    plt.grid()\n",
    "    plt.show()"
   ]
  },
  {
   "cell_type": "code",
   "execution_count": 34,
   "id": "3da06b75",
   "metadata": {},
   "outputs": [
    {
     "data": {
      "application/vnd.plotly.v1+json": {
       "config": {
        "plotlyServerURL": "https://plot.ly"
       },
       "data": [
        {
         "coloraxis": "coloraxis",
         "geo": "geo",
         "hovertemplate": "<b>%{hovertext}</b><br><br>ISO3Code=%{location}<br>Average annual GDP growth 2010-2019 (%)=%{z}<extra></extra>",
         "hovertext": [
          "Algeria",
          "Angola",
          "Benin",
          "Botswana",
          "Burkina Faso",
          "Burundi",
          "Cameroon",
          "Central African Republic",
          "Chad",
          "Comoros",
          "Djibouti",
          "Egypt",
          "Equatorial Guinea",
          "Eritrea",
          "Ethiopia",
          "Gabon",
          "Gambia",
          "Ghana",
          "Guinea",
          "Guinea-Bissau",
          "Kenya",
          "Lesotho",
          "Liberia",
          "Libya",
          "Madagascar",
          "Malawi",
          "Mali",
          "Mauritania",
          "Mauritius",
          "Morocco",
          "Mozambique",
          "Namibia",
          "Niger",
          "Nigeria",
          "Rwanda",
          "Senegal",
          "Seychelles",
          "Sierra Leone",
          "Somalia",
          "South Africa",
          "South Sudan",
          "Sudan",
          "Tanzania",
          "Togo",
          "Tunisia",
          "Uganda",
          "Zambia",
          "Zimbabwe",
          "Democratic Republic of the Congo"
         ],
         "locations": [
          "DZA",
          "AGO",
          "BEN",
          "BWA",
          "BFA",
          "BDI",
          "CMR",
          "CAF",
          "TCD",
          "COM",
          "DJI",
          "EGY",
          "GNQ",
          "ERI",
          "ETH",
          "GAB",
          "GMB",
          "GHA",
          "GIN",
          "GNB",
          "KEN",
          "LSO",
          "LBR",
          "LBY",
          "MDG",
          "MWI",
          "MLI",
          "MRT",
          "MUS",
          "MAR",
          "MOZ",
          "NAM",
          "NER",
          "NGA",
          "RWA",
          "SEN",
          "SYC",
          "SLE",
          "SOM",
          "ZAF",
          "SSD",
          "SDN",
          "TZA",
          "TGO",
          "TUN",
          "UGA",
          "ZMB",
          "ZWE",
          "COD"
         ],
         "name": "",
         "type": "choropleth",
         "z": [
          2.6,
          1.9,
          5.1,
          4.3,
          5.7,
          2,
          4.6,
          -1.8,
          2.2,
          3.1,
          6.6,
          3.8,
          -2.9,
          3.4,
          9.5,
          3.7,
          2.4,
          6.5,
          6.2,
          3.8,
          5.6,
          2.8,
          2.7,
          -10.2,
          3.4,
          3.8,
          4.3,
          3.9,
          3.6,
          3.4,
          5.4,
          2.8,
          5.9,
          3,
          7.6,
          5.3,
          4.6,
          4.4,
          null,
          1.5,
          null,
          -1.6,
          6.7,
          5.6,
          1.8,
          5.2,
          4.3,
          4.2,
          0.8
         ]
        }
       ],
       "layout": {
        "coloraxis": {
         "colorbar": {
          "title": {
           "text": "(%) "
          }
         },
         "colorscale": [
          [
           0,
           "#0d0887"
          ],
          [
           0.1111111111111111,
           "#46039f"
          ],
          [
           0.2222222222222222,
           "#7201a8"
          ],
          [
           0.3333333333333333,
           "#9c179e"
          ],
          [
           0.4444444444444444,
           "#bd3786"
          ],
          [
           0.5555555555555556,
           "#d8576b"
          ],
          [
           0.6666666666666666,
           "#ed7953"
          ],
          [
           0.7777777777777778,
           "#fb9f3a"
          ],
          [
           0.8888888888888888,
           "#fdca26"
          ],
          [
           1,
           "#f0f921"
          ]
         ]
        },
        "geo": {
         "center": {},
         "domain": {
          "x": [
           0,
           1
          ],
          "y": [
           0,
           1
          ]
         }
        },
        "legend": {
         "tracegroupgap": 0
        },
        "margin": {
         "t": 60
        },
        "template": {
         "data": {
          "bar": [
           {
            "error_x": {
             "color": "#2a3f5f"
            },
            "error_y": {
             "color": "#2a3f5f"
            },
            "marker": {
             "line": {
              "color": "#E5ECF6",
              "width": 0.5
             },
             "pattern": {
              "fillmode": "overlay",
              "size": 10,
              "solidity": 0.2
             }
            },
            "type": "bar"
           }
          ],
          "barpolar": [
           {
            "marker": {
             "line": {
              "color": "#E5ECF6",
              "width": 0.5
             },
             "pattern": {
              "fillmode": "overlay",
              "size": 10,
              "solidity": 0.2
             }
            },
            "type": "barpolar"
           }
          ],
          "carpet": [
           {
            "aaxis": {
             "endlinecolor": "#2a3f5f",
             "gridcolor": "white",
             "linecolor": "white",
             "minorgridcolor": "white",
             "startlinecolor": "#2a3f5f"
            },
            "baxis": {
             "endlinecolor": "#2a3f5f",
             "gridcolor": "white",
             "linecolor": "white",
             "minorgridcolor": "white",
             "startlinecolor": "#2a3f5f"
            },
            "type": "carpet"
           }
          ],
          "choropleth": [
           {
            "colorbar": {
             "outlinewidth": 0,
             "ticks": ""
            },
            "type": "choropleth"
           }
          ],
          "contour": [
           {
            "colorbar": {
             "outlinewidth": 0,
             "ticks": ""
            },
            "colorscale": [
             [
              0,
              "#0d0887"
             ],
             [
              0.1111111111111111,
              "#46039f"
             ],
             [
              0.2222222222222222,
              "#7201a8"
             ],
             [
              0.3333333333333333,
              "#9c179e"
             ],
             [
              0.4444444444444444,
              "#bd3786"
             ],
             [
              0.5555555555555556,
              "#d8576b"
             ],
             [
              0.6666666666666666,
              "#ed7953"
             ],
             [
              0.7777777777777778,
              "#fb9f3a"
             ],
             [
              0.8888888888888888,
              "#fdca26"
             ],
             [
              1,
              "#f0f921"
             ]
            ],
            "type": "contour"
           }
          ],
          "contourcarpet": [
           {
            "colorbar": {
             "outlinewidth": 0,
             "ticks": ""
            },
            "type": "contourcarpet"
           }
          ],
          "heatmap": [
           {
            "colorbar": {
             "outlinewidth": 0,
             "ticks": ""
            },
            "colorscale": [
             [
              0,
              "#0d0887"
             ],
             [
              0.1111111111111111,
              "#46039f"
             ],
             [
              0.2222222222222222,
              "#7201a8"
             ],
             [
              0.3333333333333333,
              "#9c179e"
             ],
             [
              0.4444444444444444,
              "#bd3786"
             ],
             [
              0.5555555555555556,
              "#d8576b"
             ],
             [
              0.6666666666666666,
              "#ed7953"
             ],
             [
              0.7777777777777778,
              "#fb9f3a"
             ],
             [
              0.8888888888888888,
              "#fdca26"
             ],
             [
              1,
              "#f0f921"
             ]
            ],
            "type": "heatmap"
           }
          ],
          "heatmapgl": [
           {
            "colorbar": {
             "outlinewidth": 0,
             "ticks": ""
            },
            "colorscale": [
             [
              0,
              "#0d0887"
             ],
             [
              0.1111111111111111,
              "#46039f"
             ],
             [
              0.2222222222222222,
              "#7201a8"
             ],
             [
              0.3333333333333333,
              "#9c179e"
             ],
             [
              0.4444444444444444,
              "#bd3786"
             ],
             [
              0.5555555555555556,
              "#d8576b"
             ],
             [
              0.6666666666666666,
              "#ed7953"
             ],
             [
              0.7777777777777778,
              "#fb9f3a"
             ],
             [
              0.8888888888888888,
              "#fdca26"
             ],
             [
              1,
              "#f0f921"
             ]
            ],
            "type": "heatmapgl"
           }
          ],
          "histogram": [
           {
            "marker": {
             "pattern": {
              "fillmode": "overlay",
              "size": 10,
              "solidity": 0.2
             }
            },
            "type": "histogram"
           }
          ],
          "histogram2d": [
           {
            "colorbar": {
             "outlinewidth": 0,
             "ticks": ""
            },
            "colorscale": [
             [
              0,
              "#0d0887"
             ],
             [
              0.1111111111111111,
              "#46039f"
             ],
             [
              0.2222222222222222,
              "#7201a8"
             ],
             [
              0.3333333333333333,
              "#9c179e"
             ],
             [
              0.4444444444444444,
              "#bd3786"
             ],
             [
              0.5555555555555556,
              "#d8576b"
             ],
             [
              0.6666666666666666,
              "#ed7953"
             ],
             [
              0.7777777777777778,
              "#fb9f3a"
             ],
             [
              0.8888888888888888,
              "#fdca26"
             ],
             [
              1,
              "#f0f921"
             ]
            ],
            "type": "histogram2d"
           }
          ],
          "histogram2dcontour": [
           {
            "colorbar": {
             "outlinewidth": 0,
             "ticks": ""
            },
            "colorscale": [
             [
              0,
              "#0d0887"
             ],
             [
              0.1111111111111111,
              "#46039f"
             ],
             [
              0.2222222222222222,
              "#7201a8"
             ],
             [
              0.3333333333333333,
              "#9c179e"
             ],
             [
              0.4444444444444444,
              "#bd3786"
             ],
             [
              0.5555555555555556,
              "#d8576b"
             ],
             [
              0.6666666666666666,
              "#ed7953"
             ],
             [
              0.7777777777777778,
              "#fb9f3a"
             ],
             [
              0.8888888888888888,
              "#fdca26"
             ],
             [
              1,
              "#f0f921"
             ]
            ],
            "type": "histogram2dcontour"
           }
          ],
          "mesh3d": [
           {
            "colorbar": {
             "outlinewidth": 0,
             "ticks": ""
            },
            "type": "mesh3d"
           }
          ],
          "parcoords": [
           {
            "line": {
             "colorbar": {
              "outlinewidth": 0,
              "ticks": ""
             }
            },
            "type": "parcoords"
           }
          ],
          "pie": [
           {
            "automargin": true,
            "type": "pie"
           }
          ],
          "scatter": [
           {
            "fillpattern": {
             "fillmode": "overlay",
             "size": 10,
             "solidity": 0.2
            },
            "type": "scatter"
           }
          ],
          "scatter3d": [
           {
            "line": {
             "colorbar": {
              "outlinewidth": 0,
              "ticks": ""
             }
            },
            "marker": {
             "colorbar": {
              "outlinewidth": 0,
              "ticks": ""
             }
            },
            "type": "scatter3d"
           }
          ],
          "scattercarpet": [
           {
            "marker": {
             "colorbar": {
              "outlinewidth": 0,
              "ticks": ""
             }
            },
            "type": "scattercarpet"
           }
          ],
          "scattergeo": [
           {
            "marker": {
             "colorbar": {
              "outlinewidth": 0,
              "ticks": ""
             }
            },
            "type": "scattergeo"
           }
          ],
          "scattergl": [
           {
            "marker": {
             "colorbar": {
              "outlinewidth": 0,
              "ticks": ""
             }
            },
            "type": "scattergl"
           }
          ],
          "scattermapbox": [
           {
            "marker": {
             "colorbar": {
              "outlinewidth": 0,
              "ticks": ""
             }
            },
            "type": "scattermapbox"
           }
          ],
          "scatterpolar": [
           {
            "marker": {
             "colorbar": {
              "outlinewidth": 0,
              "ticks": ""
             }
            },
            "type": "scatterpolar"
           }
          ],
          "scatterpolargl": [
           {
            "marker": {
             "colorbar": {
              "outlinewidth": 0,
              "ticks": ""
             }
            },
            "type": "scatterpolargl"
           }
          ],
          "scatterternary": [
           {
            "marker": {
             "colorbar": {
              "outlinewidth": 0,
              "ticks": ""
             }
            },
            "type": "scatterternary"
           }
          ],
          "surface": [
           {
            "colorbar": {
             "outlinewidth": 0,
             "ticks": ""
            },
            "colorscale": [
             [
              0,
              "#0d0887"
             ],
             [
              0.1111111111111111,
              "#46039f"
             ],
             [
              0.2222222222222222,
              "#7201a8"
             ],
             [
              0.3333333333333333,
              "#9c179e"
             ],
             [
              0.4444444444444444,
              "#bd3786"
             ],
             [
              0.5555555555555556,
              "#d8576b"
             ],
             [
              0.6666666666666666,
              "#ed7953"
             ],
             [
              0.7777777777777778,
              "#fb9f3a"
             ],
             [
              0.8888888888888888,
              "#fdca26"
             ],
             [
              1,
              "#f0f921"
             ]
            ],
            "type": "surface"
           }
          ],
          "table": [
           {
            "cells": {
             "fill": {
              "color": "#EBF0F8"
             },
             "line": {
              "color": "white"
             }
            },
            "header": {
             "fill": {
              "color": "#C8D4E3"
             },
             "line": {
              "color": "white"
             }
            },
            "type": "table"
           }
          ]
         },
         "layout": {
          "annotationdefaults": {
           "arrowcolor": "#2a3f5f",
           "arrowhead": 0,
           "arrowwidth": 1
          },
          "autotypenumbers": "strict",
          "coloraxis": {
           "colorbar": {
            "outlinewidth": 0,
            "ticks": ""
           }
          },
          "colorscale": {
           "diverging": [
            [
             0,
             "#8e0152"
            ],
            [
             0.1,
             "#c51b7d"
            ],
            [
             0.2,
             "#de77ae"
            ],
            [
             0.3,
             "#f1b6da"
            ],
            [
             0.4,
             "#fde0ef"
            ],
            [
             0.5,
             "#f7f7f7"
            ],
            [
             0.6,
             "#e6f5d0"
            ],
            [
             0.7,
             "#b8e186"
            ],
            [
             0.8,
             "#7fbc41"
            ],
            [
             0.9,
             "#4d9221"
            ],
            [
             1,
             "#276419"
            ]
           ],
           "sequential": [
            [
             0,
             "#0d0887"
            ],
            [
             0.1111111111111111,
             "#46039f"
            ],
            [
             0.2222222222222222,
             "#7201a8"
            ],
            [
             0.3333333333333333,
             "#9c179e"
            ],
            [
             0.4444444444444444,
             "#bd3786"
            ],
            [
             0.5555555555555556,
             "#d8576b"
            ],
            [
             0.6666666666666666,
             "#ed7953"
            ],
            [
             0.7777777777777778,
             "#fb9f3a"
            ],
            [
             0.8888888888888888,
             "#fdca26"
            ],
            [
             1,
             "#f0f921"
            ]
           ],
           "sequentialminus": [
            [
             0,
             "#0d0887"
            ],
            [
             0.1111111111111111,
             "#46039f"
            ],
            [
             0.2222222222222222,
             "#7201a8"
            ],
            [
             0.3333333333333333,
             "#9c179e"
            ],
            [
             0.4444444444444444,
             "#bd3786"
            ],
            [
             0.5555555555555556,
             "#d8576b"
            ],
            [
             0.6666666666666666,
             "#ed7953"
            ],
            [
             0.7777777777777778,
             "#fb9f3a"
            ],
            [
             0.8888888888888888,
             "#fdca26"
            ],
            [
             1,
             "#f0f921"
            ]
           ]
          },
          "colorway": [
           "#636efa",
           "#EF553B",
           "#00cc96",
           "#ab63fa",
           "#FFA15A",
           "#19d3f3",
           "#FF6692",
           "#B6E880",
           "#FF97FF",
           "#FECB52"
          ],
          "font": {
           "color": "#2a3f5f"
          },
          "geo": {
           "bgcolor": "white",
           "lakecolor": "white",
           "landcolor": "#E5ECF6",
           "showlakes": true,
           "showland": true,
           "subunitcolor": "white"
          },
          "hoverlabel": {
           "align": "left"
          },
          "hovermode": "closest",
          "mapbox": {
           "style": "light"
          },
          "paper_bgcolor": "white",
          "plot_bgcolor": "#E5ECF6",
          "polar": {
           "angularaxis": {
            "gridcolor": "white",
            "linecolor": "white",
            "ticks": ""
           },
           "bgcolor": "#E5ECF6",
           "radialaxis": {
            "gridcolor": "white",
            "linecolor": "white",
            "ticks": ""
           }
          },
          "scene": {
           "xaxis": {
            "backgroundcolor": "#E5ECF6",
            "gridcolor": "white",
            "gridwidth": 2,
            "linecolor": "white",
            "showbackground": true,
            "ticks": "",
            "zerolinecolor": "white"
           },
           "yaxis": {
            "backgroundcolor": "#E5ECF6",
            "gridcolor": "white",
            "gridwidth": 2,
            "linecolor": "white",
            "showbackground": true,
            "ticks": "",
            "zerolinecolor": "white"
           },
           "zaxis": {
            "backgroundcolor": "#E5ECF6",
            "gridcolor": "white",
            "gridwidth": 2,
            "linecolor": "white",
            "showbackground": true,
            "ticks": "",
            "zerolinecolor": "white"
           }
          },
          "shapedefaults": {
           "line": {
            "color": "#2a3f5f"
           }
          },
          "ternary": {
           "aaxis": {
            "gridcolor": "white",
            "linecolor": "white",
            "ticks": ""
           },
           "baxis": {
            "gridcolor": "white",
            "linecolor": "white",
            "ticks": ""
           },
           "bgcolor": "#E5ECF6",
           "caxis": {
            "gridcolor": "white",
            "linecolor": "white",
            "ticks": ""
           }
          },
          "title": {
           "x": 0.05
          },
          "xaxis": {
           "automargin": true,
           "gridcolor": "white",
           "linecolor": "white",
           "ticks": "",
           "title": {
            "standoff": 15
           },
           "zerolinecolor": "white",
           "zerolinewidth": 2
          },
          "yaxis": {
           "automargin": true,
           "gridcolor": "white",
           "linecolor": "white",
           "ticks": "",
           "title": {
            "standoff": 15
           },
           "zerolinecolor": "white",
           "zerolinewidth": 2
          }
         }
        },
        "title": {
         "text": "AFRICAN COUNTRIES COLORMAP ACCORDING TO GDP ANNUAL GROWTH"
        }
       }
      },
      "text/html": [
       "<div>                            <div id=\"17d9c4aa-749c-4fdf-866f-0193e8db2f95\" class=\"plotly-graph-div\" style=\"height:525px; width:100%;\"></div>            <script type=\"text/javascript\">                require([\"plotly\"], function(Plotly) {                    window.PLOTLYENV=window.PLOTLYENV || {};                                    if (document.getElementById(\"17d9c4aa-749c-4fdf-866f-0193e8db2f95\")) {                    Plotly.newPlot(                        \"17d9c4aa-749c-4fdf-866f-0193e8db2f95\",                        [{\"coloraxis\":\"coloraxis\",\"geo\":\"geo\",\"hovertemplate\":\"<b>%{hovertext}</b><br><br>ISO3Code=%{location}<br>Average annual GDP growth 2010-2019 (%)=%{z}<extra></extra>\",\"hovertext\":[\"Algeria\",\"Angola\",\"Benin\",\"Botswana\",\"Burkina Faso\",\"Burundi\",\"Cameroon\",\"Central African Republic\",\"Chad\",\"Comoros\",\"Djibouti\",\"Egypt\",\"Equatorial Guinea\",\"Eritrea\",\"Ethiopia\",\"Gabon\",\"Gambia\",\"Ghana\",\"Guinea\",\"Guinea-Bissau\",\"Kenya\",\"Lesotho\",\"Liberia\",\"Libya\",\"Madagascar\",\"Malawi\",\"Mali\",\"Mauritania\",\"Mauritius\",\"Morocco\",\"Mozambique\",\"Namibia\",\"Niger\",\"Nigeria\",\"Rwanda\",\"Senegal\",\"Seychelles\",\"Sierra Leone\",\"Somalia\",\"South Africa\",\"South Sudan\",\"Sudan\",\"Tanzania\",\"Togo\",\"Tunisia\",\"Uganda\",\"Zambia\",\"Zimbabwe\",\"Democratic Republic of the Congo\"],\"locations\":[\"DZA\",\"AGO\",\"BEN\",\"BWA\",\"BFA\",\"BDI\",\"CMR\",\"CAF\",\"TCD\",\"COM\",\"DJI\",\"EGY\",\"GNQ\",\"ERI\",\"ETH\",\"GAB\",\"GMB\",\"GHA\",\"GIN\",\"GNB\",\"KEN\",\"LSO\",\"LBR\",\"LBY\",\"MDG\",\"MWI\",\"MLI\",\"MRT\",\"MUS\",\"MAR\",\"MOZ\",\"NAM\",\"NER\",\"NGA\",\"RWA\",\"SEN\",\"SYC\",\"SLE\",\"SOM\",\"ZAF\",\"SSD\",\"SDN\",\"TZA\",\"TGO\",\"TUN\",\"UGA\",\"ZMB\",\"ZWE\",\"COD\"],\"name\":\"\",\"z\":[2.6,1.9,5.1,4.3,5.7,2.0,4.6,-1.8,2.2,3.1,6.6,3.8,-2.9,3.4,9.5,3.7,2.4,6.5,6.2,3.8,5.6,2.8,2.7,-10.2,3.4,3.8,4.3,3.9,3.6,3.4,5.4,2.8,5.9,3.0,7.6,5.3,4.6,4.4,null,1.5,null,-1.6,6.7,5.6,1.8,5.2,4.3,4.2,0.8],\"type\":\"choropleth\"}],                        {\"template\":{\"data\":{\"histogram2dcontour\":[{\"type\":\"histogram2dcontour\",\"colorbar\":{\"outlinewidth\":0,\"ticks\":\"\"},\"colorscale\":[[0.0,\"#0d0887\"],[0.1111111111111111,\"#46039f\"],[0.2222222222222222,\"#7201a8\"],[0.3333333333333333,\"#9c179e\"],[0.4444444444444444,\"#bd3786\"],[0.5555555555555556,\"#d8576b\"],[0.6666666666666666,\"#ed7953\"],[0.7777777777777778,\"#fb9f3a\"],[0.8888888888888888,\"#fdca26\"],[1.0,\"#f0f921\"]]}],\"choropleth\":[{\"type\":\"choropleth\",\"colorbar\":{\"outlinewidth\":0,\"ticks\":\"\"}}],\"histogram2d\":[{\"type\":\"histogram2d\",\"colorbar\":{\"outlinewidth\":0,\"ticks\":\"\"},\"colorscale\":[[0.0,\"#0d0887\"],[0.1111111111111111,\"#46039f\"],[0.2222222222222222,\"#7201a8\"],[0.3333333333333333,\"#9c179e\"],[0.4444444444444444,\"#bd3786\"],[0.5555555555555556,\"#d8576b\"],[0.6666666666666666,\"#ed7953\"],[0.7777777777777778,\"#fb9f3a\"],[0.8888888888888888,\"#fdca26\"],[1.0,\"#f0f921\"]]}],\"heatmap\":[{\"type\":\"heatmap\",\"colorbar\":{\"outlinewidth\":0,\"ticks\":\"\"},\"colorscale\":[[0.0,\"#0d0887\"],[0.1111111111111111,\"#46039f\"],[0.2222222222222222,\"#7201a8\"],[0.3333333333333333,\"#9c179e\"],[0.4444444444444444,\"#bd3786\"],[0.5555555555555556,\"#d8576b\"],[0.6666666666666666,\"#ed7953\"],[0.7777777777777778,\"#fb9f3a\"],[0.8888888888888888,\"#fdca26\"],[1.0,\"#f0f921\"]]}],\"heatmapgl\":[{\"type\":\"heatmapgl\",\"colorbar\":{\"outlinewidth\":0,\"ticks\":\"\"},\"colorscale\":[[0.0,\"#0d0887\"],[0.1111111111111111,\"#46039f\"],[0.2222222222222222,\"#7201a8\"],[0.3333333333333333,\"#9c179e\"],[0.4444444444444444,\"#bd3786\"],[0.5555555555555556,\"#d8576b\"],[0.6666666666666666,\"#ed7953\"],[0.7777777777777778,\"#fb9f3a\"],[0.8888888888888888,\"#fdca26\"],[1.0,\"#f0f921\"]]}],\"contourcarpet\":[{\"type\":\"contourcarpet\",\"colorbar\":{\"outlinewidth\":0,\"ticks\":\"\"}}],\"contour\":[{\"type\":\"contour\",\"colorbar\":{\"outlinewidth\":0,\"ticks\":\"\"},\"colorscale\":[[0.0,\"#0d0887\"],[0.1111111111111111,\"#46039f\"],[0.2222222222222222,\"#7201a8\"],[0.3333333333333333,\"#9c179e\"],[0.4444444444444444,\"#bd3786\"],[0.5555555555555556,\"#d8576b\"],[0.6666666666666666,\"#ed7953\"],[0.7777777777777778,\"#fb9f3a\"],[0.8888888888888888,\"#fdca26\"],[1.0,\"#f0f921\"]]}],\"surface\":[{\"type\":\"surface\",\"colorbar\":{\"outlinewidth\":0,\"ticks\":\"\"},\"colorscale\":[[0.0,\"#0d0887\"],[0.1111111111111111,\"#46039f\"],[0.2222222222222222,\"#7201a8\"],[0.3333333333333333,\"#9c179e\"],[0.4444444444444444,\"#bd3786\"],[0.5555555555555556,\"#d8576b\"],[0.6666666666666666,\"#ed7953\"],[0.7777777777777778,\"#fb9f3a\"],[0.8888888888888888,\"#fdca26\"],[1.0,\"#f0f921\"]]}],\"mesh3d\":[{\"type\":\"mesh3d\",\"colorbar\":{\"outlinewidth\":0,\"ticks\":\"\"}}],\"scatter\":[{\"fillpattern\":{\"fillmode\":\"overlay\",\"size\":10,\"solidity\":0.2},\"type\":\"scatter\"}],\"parcoords\":[{\"type\":\"parcoords\",\"line\":{\"colorbar\":{\"outlinewidth\":0,\"ticks\":\"\"}}}],\"scatterpolargl\":[{\"type\":\"scatterpolargl\",\"marker\":{\"colorbar\":{\"outlinewidth\":0,\"ticks\":\"\"}}}],\"bar\":[{\"error_x\":{\"color\":\"#2a3f5f\"},\"error_y\":{\"color\":\"#2a3f5f\"},\"marker\":{\"line\":{\"color\":\"#E5ECF6\",\"width\":0.5},\"pattern\":{\"fillmode\":\"overlay\",\"size\":10,\"solidity\":0.2}},\"type\":\"bar\"}],\"scattergeo\":[{\"type\":\"scattergeo\",\"marker\":{\"colorbar\":{\"outlinewidth\":0,\"ticks\":\"\"}}}],\"scatterpolar\":[{\"type\":\"scatterpolar\",\"marker\":{\"colorbar\":{\"outlinewidth\":0,\"ticks\":\"\"}}}],\"histogram\":[{\"marker\":{\"pattern\":{\"fillmode\":\"overlay\",\"size\":10,\"solidity\":0.2}},\"type\":\"histogram\"}],\"scattergl\":[{\"type\":\"scattergl\",\"marker\":{\"colorbar\":{\"outlinewidth\":0,\"ticks\":\"\"}}}],\"scatter3d\":[{\"type\":\"scatter3d\",\"line\":{\"colorbar\":{\"outlinewidth\":0,\"ticks\":\"\"}},\"marker\":{\"colorbar\":{\"outlinewidth\":0,\"ticks\":\"\"}}}],\"scattermapbox\":[{\"type\":\"scattermapbox\",\"marker\":{\"colorbar\":{\"outlinewidth\":0,\"ticks\":\"\"}}}],\"scatterternary\":[{\"type\":\"scatterternary\",\"marker\":{\"colorbar\":{\"outlinewidth\":0,\"ticks\":\"\"}}}],\"scattercarpet\":[{\"type\":\"scattercarpet\",\"marker\":{\"colorbar\":{\"outlinewidth\":0,\"ticks\":\"\"}}}],\"carpet\":[{\"aaxis\":{\"endlinecolor\":\"#2a3f5f\",\"gridcolor\":\"white\",\"linecolor\":\"white\",\"minorgridcolor\":\"white\",\"startlinecolor\":\"#2a3f5f\"},\"baxis\":{\"endlinecolor\":\"#2a3f5f\",\"gridcolor\":\"white\",\"linecolor\":\"white\",\"minorgridcolor\":\"white\",\"startlinecolor\":\"#2a3f5f\"},\"type\":\"carpet\"}],\"table\":[{\"cells\":{\"fill\":{\"color\":\"#EBF0F8\"},\"line\":{\"color\":\"white\"}},\"header\":{\"fill\":{\"color\":\"#C8D4E3\"},\"line\":{\"color\":\"white\"}},\"type\":\"table\"}],\"barpolar\":[{\"marker\":{\"line\":{\"color\":\"#E5ECF6\",\"width\":0.5},\"pattern\":{\"fillmode\":\"overlay\",\"size\":10,\"solidity\":0.2}},\"type\":\"barpolar\"}],\"pie\":[{\"automargin\":true,\"type\":\"pie\"}]},\"layout\":{\"autotypenumbers\":\"strict\",\"colorway\":[\"#636efa\",\"#EF553B\",\"#00cc96\",\"#ab63fa\",\"#FFA15A\",\"#19d3f3\",\"#FF6692\",\"#B6E880\",\"#FF97FF\",\"#FECB52\"],\"font\":{\"color\":\"#2a3f5f\"},\"hovermode\":\"closest\",\"hoverlabel\":{\"align\":\"left\"},\"paper_bgcolor\":\"white\",\"plot_bgcolor\":\"#E5ECF6\",\"polar\":{\"bgcolor\":\"#E5ECF6\",\"angularaxis\":{\"gridcolor\":\"white\",\"linecolor\":\"white\",\"ticks\":\"\"},\"radialaxis\":{\"gridcolor\":\"white\",\"linecolor\":\"white\",\"ticks\":\"\"}},\"ternary\":{\"bgcolor\":\"#E5ECF6\",\"aaxis\":{\"gridcolor\":\"white\",\"linecolor\":\"white\",\"ticks\":\"\"},\"baxis\":{\"gridcolor\":\"white\",\"linecolor\":\"white\",\"ticks\":\"\"},\"caxis\":{\"gridcolor\":\"white\",\"linecolor\":\"white\",\"ticks\":\"\"}},\"coloraxis\":{\"colorbar\":{\"outlinewidth\":0,\"ticks\":\"\"}},\"colorscale\":{\"sequential\":[[0.0,\"#0d0887\"],[0.1111111111111111,\"#46039f\"],[0.2222222222222222,\"#7201a8\"],[0.3333333333333333,\"#9c179e\"],[0.4444444444444444,\"#bd3786\"],[0.5555555555555556,\"#d8576b\"],[0.6666666666666666,\"#ed7953\"],[0.7777777777777778,\"#fb9f3a\"],[0.8888888888888888,\"#fdca26\"],[1.0,\"#f0f921\"]],\"sequentialminus\":[[0.0,\"#0d0887\"],[0.1111111111111111,\"#46039f\"],[0.2222222222222222,\"#7201a8\"],[0.3333333333333333,\"#9c179e\"],[0.4444444444444444,\"#bd3786\"],[0.5555555555555556,\"#d8576b\"],[0.6666666666666666,\"#ed7953\"],[0.7777777777777778,\"#fb9f3a\"],[0.8888888888888888,\"#fdca26\"],[1.0,\"#f0f921\"]],\"diverging\":[[0,\"#8e0152\"],[0.1,\"#c51b7d\"],[0.2,\"#de77ae\"],[0.3,\"#f1b6da\"],[0.4,\"#fde0ef\"],[0.5,\"#f7f7f7\"],[0.6,\"#e6f5d0\"],[0.7,\"#b8e186\"],[0.8,\"#7fbc41\"],[0.9,\"#4d9221\"],[1,\"#276419\"]]},\"xaxis\":{\"gridcolor\":\"white\",\"linecolor\":\"white\",\"ticks\":\"\",\"title\":{\"standoff\":15},\"zerolinecolor\":\"white\",\"automargin\":true,\"zerolinewidth\":2},\"yaxis\":{\"gridcolor\":\"white\",\"linecolor\":\"white\",\"ticks\":\"\",\"title\":{\"standoff\":15},\"zerolinecolor\":\"white\",\"automargin\":true,\"zerolinewidth\":2},\"scene\":{\"xaxis\":{\"backgroundcolor\":\"#E5ECF6\",\"gridcolor\":\"white\",\"linecolor\":\"white\",\"showbackground\":true,\"ticks\":\"\",\"zerolinecolor\":\"white\",\"gridwidth\":2},\"yaxis\":{\"backgroundcolor\":\"#E5ECF6\",\"gridcolor\":\"white\",\"linecolor\":\"white\",\"showbackground\":true,\"ticks\":\"\",\"zerolinecolor\":\"white\",\"gridwidth\":2},\"zaxis\":{\"backgroundcolor\":\"#E5ECF6\",\"gridcolor\":\"white\",\"linecolor\":\"white\",\"showbackground\":true,\"ticks\":\"\",\"zerolinecolor\":\"white\",\"gridwidth\":2}},\"shapedefaults\":{\"line\":{\"color\":\"#2a3f5f\"}},\"annotationdefaults\":{\"arrowcolor\":\"#2a3f5f\",\"arrowhead\":0,\"arrowwidth\":1},\"geo\":{\"bgcolor\":\"white\",\"landcolor\":\"#E5ECF6\",\"subunitcolor\":\"white\",\"showland\":true,\"showlakes\":true,\"lakecolor\":\"white\"},\"title\":{\"x\":0.05},\"mapbox\":{\"style\":\"light\"}}},\"geo\":{\"domain\":{\"x\":[0.0,1.0],\"y\":[0.0,1.0]},\"center\":{}},\"coloraxis\":{\"colorbar\":{\"title\":{\"text\":\"(%) \"}},\"colorscale\":[[0.0,\"#0d0887\"],[0.1111111111111111,\"#46039f\"],[0.2222222222222222,\"#7201a8\"],[0.3333333333333333,\"#9c179e\"],[0.4444444444444444,\"#bd3786\"],[0.5555555555555556,\"#d8576b\"],[0.6666666666666666,\"#ed7953\"],[0.7777777777777778,\"#fb9f3a\"],[0.8888888888888888,\"#fdca26\"],[1.0,\"#f0f921\"]]},\"legend\":{\"tracegroupgap\":0},\"margin\":{\"t\":60},\"title\":{\"text\":\"AFRICAN COUNTRIES COLORMAP ACCORDING TO GDP ANNUAL GROWTH\"}},                        {\"responsive\": true}                    ).then(function(){\n",
       "                            \n",
       "var gd = document.getElementById('17d9c4aa-749c-4fdf-866f-0193e8db2f95');\n",
       "var x = new MutationObserver(function (mutations, observer) {{\n",
       "        var display = window.getComputedStyle(gd).display;\n",
       "        if (!display || display === 'none') {{\n",
       "            console.log([gd, 'removed!']);\n",
       "            Plotly.purge(gd);\n",
       "            observer.disconnect();\n",
       "        }}\n",
       "}});\n",
       "\n",
       "// Listen for the removal of the full notebook cells\n",
       "var notebookContainer = gd.closest('#notebook-container');\n",
       "if (notebookContainer) {{\n",
       "    x.observe(notebookContainer, {childList: true});\n",
       "}}\n",
       "\n",
       "// Listen for the clearing of the current output cell\n",
       "var outputEl = gd.closest('.output');\n",
       "if (outputEl) {{\n",
       "    x.observe(outputEl, {childList: true});\n",
       "}}\n",
       "\n",
       "                        })                };                });            </script>        </div>"
      ]
     },
     "metadata": {},
     "output_type": "display_data"
    }
   ],
   "source": [
    "import plotly.express as px\n",
    "\n",
    "fig = px.choropleth(df, locations=\"ISO3Code\",\n",
    "                    color=\"Average annual GDP growth 2010-2019 (%)\", # lifeExp is a column of gapminder\n",
    "                    hover_name=\"Country\", # column to add to hover information\n",
    "                    color_continuous_scale=px.colors.sequential.Plasma)\n",
    "\n",
    "\n",
    "fig.update_layout(coloraxis_colorbar=dict(title=\"(%) \"))\n",
    "fig.update_layout(title='AFRICAN COUNTRIES COLORMAP ACCORDING TO GDP ANNUAL GROWTH')\n",
    "\n",
    "\n",
    "\n",
    "fig.show()"
   ]
  },
  {
   "cell_type": "markdown",
   "id": "5ed89efb",
   "metadata": {},
   "source": [
    "### OVERVIEW OF THE CHARTS"
   ]
  },
  {
   "cell_type": "markdown",
   "id": "6ff63c47",
   "metadata": {},
   "source": [
    "As we can see on the first graph, Ethiopia, Rwanda, Tanzania are the countries with the highest GDP growth rate\n",
    "\n",
    "Nigeria,Ethipia,Congo, Tanzania are the countries with the biggest population. The problem with Ethipia is that urban population percentage is only 21%\n",
    "\n",
    "Median age is ranging between 18 and 25 in most of the countries"
   ]
  },
  {
   "cell_type": "markdown",
   "id": "e17efa52",
   "metadata": {},
   "source": [
    "###  WHICH COUNTRIES TO ENTER?"
   ]
  },
  {
   "cell_type": "markdown",
   "id": "e3175f4e",
   "metadata": {},
   "source": [
    "Considering all the information, I would recommend Nestle to enter the following 8 countries:\n",
    "\n",
    "**Ethiopia, Tanzania, Ghana, Guinea,Senegal, Benin, Cameroon, Zambia.**\n",
    "\n",
    "All these countries have high annual GDP growth rate and highest population and the median age is ranging between 18 and 22"
   ]
  },
  {
   "cell_type": "code",
   "execution_count": 38,
   "id": "c27f5ff1",
   "metadata": {},
   "outputs": [],
   "source": [
    "countries=['Ethiopia', 'Tanzania', 'Ghana', 'Guinea','Senegal', 'Benin', 'Cameroon', 'Zambia']"
   ]
  },
  {
   "cell_type": "code",
   "execution_count": 40,
   "id": "0a3b8434",
   "metadata": {},
   "outputs": [
    {
     "data": {
      "text/html": [
       "<div>\n",
       "<style scoped>\n",
       "    .dataframe tbody tr th:only-of-type {\n",
       "        vertical-align: middle;\n",
       "    }\n",
       "\n",
       "    .dataframe tbody tr th {\n",
       "        vertical-align: top;\n",
       "    }\n",
       "\n",
       "    .dataframe thead th {\n",
       "        text-align: right;\n",
       "    }\n",
       "</style>\n",
       "<table border=\"1\" class=\"dataframe\">\n",
       "  <thead>\n",
       "    <tr style=\"text-align: right;\">\n",
       "      <th></th>\n",
       "      <th>Country</th>\n",
       "      <th>TotalNominalGDP2019(billion $USD)</th>\n",
       "      <th>GDP per capita 2019 ($USD)</th>\n",
       "      <th>Average annual GDP growth 2010-2019 (%)</th>\n",
       "      <th>Population</th>\n",
       "      <th>Population annual growth (%)</th>\n",
       "      <th>Median Age</th>\n",
       "      <th>Urban Population (%)</th>\n",
       "      <th>ISO3Code</th>\n",
       "    </tr>\n",
       "  </thead>\n",
       "  <tbody>\n",
       "    <tr>\n",
       "      <th>2</th>\n",
       "      <td>Benin</td>\n",
       "      <td>14.4</td>\n",
       "      <td>3423.0</td>\n",
       "      <td>5.1</td>\n",
       "      <td>12902012</td>\n",
       "      <td>2.71</td>\n",
       "      <td>19</td>\n",
       "      <td>48</td>\n",
       "      <td>BEN</td>\n",
       "    </tr>\n",
       "    <tr>\n",
       "      <th>6</th>\n",
       "      <td>Cameroon</td>\n",
       "      <td>38.9</td>\n",
       "      <td>3856.0</td>\n",
       "      <td>4.6</td>\n",
       "      <td>28161144</td>\n",
       "      <td>2.56</td>\n",
       "      <td>19</td>\n",
       "      <td>56</td>\n",
       "      <td>CMR</td>\n",
       "    </tr>\n",
       "    <tr>\n",
       "      <th>14</th>\n",
       "      <td>Ethiopia</td>\n",
       "      <td>92.8</td>\n",
       "      <td>2724.0</td>\n",
       "      <td>9.5</td>\n",
       "      <td>121922416</td>\n",
       "      <td>2.85</td>\n",
       "      <td>19</td>\n",
       "      <td>21</td>\n",
       "      <td>ETH</td>\n",
       "    </tr>\n",
       "    <tr>\n",
       "      <th>17</th>\n",
       "      <td>Ghana</td>\n",
       "      <td>67.0</td>\n",
       "      <td>5688.0</td>\n",
       "      <td>6.5</td>\n",
       "      <td>32642373</td>\n",
       "      <td>2.17</td>\n",
       "      <td>22</td>\n",
       "      <td>57</td>\n",
       "      <td>GHA</td>\n",
       "    </tr>\n",
       "    <tr>\n",
       "      <th>18</th>\n",
       "      <td>Guinea</td>\n",
       "      <td>13.8</td>\n",
       "      <td>2506.0</td>\n",
       "      <td>6.2</td>\n",
       "      <td>14008576</td>\n",
       "      <td>2.61</td>\n",
       "      <td>18</td>\n",
       "      <td>39</td>\n",
       "      <td>GIN</td>\n",
       "    </tr>\n",
       "    <tr>\n",
       "      <th>35</th>\n",
       "      <td>Senegal</td>\n",
       "      <td>23.6</td>\n",
       "      <td>3536.0</td>\n",
       "      <td>5.3</td>\n",
       "      <td>17826571</td>\n",
       "      <td>2.39</td>\n",
       "      <td>19</td>\n",
       "      <td>49</td>\n",
       "      <td>SEN</td>\n",
       "    </tr>\n",
       "    <tr>\n",
       "      <th>42</th>\n",
       "      <td>Tanzania</td>\n",
       "      <td>60.8</td>\n",
       "      <td>2841.0</td>\n",
       "      <td>6.7</td>\n",
       "      <td>63931876</td>\n",
       "      <td>2.75</td>\n",
       "      <td>18</td>\n",
       "      <td>37</td>\n",
       "      <td>TZA</td>\n",
       "    </tr>\n",
       "    <tr>\n",
       "      <th>46</th>\n",
       "      <td>Zambia</td>\n",
       "      <td>24.2</td>\n",
       "      <td>3526.0</td>\n",
       "      <td>4.3</td>\n",
       "      <td>19652620</td>\n",
       "      <td>2.93</td>\n",
       "      <td>18</td>\n",
       "      <td>45</td>\n",
       "      <td>ZMB</td>\n",
       "    </tr>\n",
       "  </tbody>\n",
       "</table>\n",
       "</div>"
      ],
      "text/plain": [
       "     Country  TotalNominalGDP2019(billion $USD)  GDP per capita 2019 ($USD)  \\\n",
       "2      Benin                               14.4                      3423.0   \n",
       "6   Cameroon                               38.9                      3856.0   \n",
       "14  Ethiopia                               92.8                      2724.0   \n",
       "17     Ghana                               67.0                      5688.0   \n",
       "18    Guinea                               13.8                      2506.0   \n",
       "35   Senegal                               23.6                      3536.0   \n",
       "42  Tanzania                               60.8                      2841.0   \n",
       "46    Zambia                               24.2                      3526.0   \n",
       "\n",
       "    Average annual GDP growth 2010-2019 (%)  Population  \\\n",
       "2                                       5.1    12902012   \n",
       "6                                       4.6    28161144   \n",
       "14                                      9.5   121922416   \n",
       "17                                      6.5    32642373   \n",
       "18                                      6.2    14008576   \n",
       "35                                      5.3    17826571   \n",
       "42                                      6.7    63931876   \n",
       "46                                      4.3    19652620   \n",
       "\n",
       "    Population annual growth (%)  Median Age  Urban Population (%) ISO3Code  \n",
       "2                           2.71          19                    48      BEN  \n",
       "6                           2.56          19                    56      CMR  \n",
       "14                          2.85          19                    21      ETH  \n",
       "17                          2.17          22                    57      GHA  \n",
       "18                          2.61          18                    39      GIN  \n",
       "35                          2.39          19                    49      SEN  \n",
       "42                          2.75          18                    37      TZA  \n",
       "46                          2.93          18                    45      ZMB  "
      ]
     },
     "execution_count": 40,
     "metadata": {},
     "output_type": "execute_result"
    }
   ],
   "source": [
    "df[df['Country'].isin(countries)]"
   ]
  },
  {
   "cell_type": "code",
   "execution_count": 46,
   "id": "831aa21b",
   "metadata": {},
   "outputs": [
    {
     "name": "stdout",
     "output_type": "stream",
     "text": [
      "Total Population for these countries : 311.0  million\n"
     ]
    }
   ],
   "source": [
    "print('Total Population for these countries :',round(df[df['Country'].isin(countries)]['Population'].sum()/10**6,1),' million')"
   ]
  },
  {
   "cell_type": "markdown",
   "id": "76e14880",
   "metadata": {},
   "source": [
    "**The 3 cities to operate would be** :\n",
    "\n",
    "**Dakar** (capital of Senegal) with population of 3.94 million including metropolitan area\n",
    "\n",
    "**Accra** (capital of Ghana) with population of 2.51 million including metropolitan area\n",
    "\n",
    "**Dar es Salaam** (capital of Tanzania) with population of 7.4 million including metropolitan area"
   ]
  },
  {
   "cell_type": "markdown",
   "id": "fc4e3510",
   "metadata": {},
   "source": [
    "### EXISTING FOOD, BEVERAGE AND CONSUMER GOODS COMPANIES IN AFRICA "
   ]
  },
  {
   "cell_type": "markdown",
   "id": "719c1ed6",
   "metadata": {},
   "source": [
    "There are several food and beverage international companies that operate in African region. \n",
    "\n",
    "These are: **Unilever, Kraft, Tiger Brands, Coca-Cola, Pepsico.**\n",
    "\n",
    "Unilever plans to double its growth in Africa within the next five years from €3bn per year to €6bn\n",
    "\n",
    "Kraft is increasing its revenue in Africa by 10 percent annually since 2009\n",
    "\n",
    "As for Tiger Brandes, \"Overall turnover increased by 12.1% between 2011 and 2012, from $1.4bn to $1.4bn. the company has recorded excellent performances in Cameroon, Kenya, Mozambique, Zambia, Zimbabwe and Ethiopia\"\n",
    "\n",
    "**I think, the best strategy plan for Nestle would be to penetrate the market with low-cost products. Products that Nestle can sell in Europe or in North-America, can't be sold in Africa. Prices should be competite and low. Apart from that, Nestle should differenciate itself as a socially responsible company. Nestle should invest into charity and and increase the popularity and brand awareness into these 8 countries, which can be translated into brand loyalty and increased sales in the future.**"
   ]
  },
  {
   "cell_type": "code",
   "execution_count": null,
   "id": "0981e411",
   "metadata": {},
   "outputs": [],
   "source": []
  },
  {
   "cell_type": "markdown",
   "id": "8e4127da",
   "metadata": {},
   "source": [
    "links:\n",
    "\n",
    "https://en.wikipedia.org/wiki/List_of_African_countries_by_GDP_(nominal)\n",
    "\n",
    "https://www.worldometers.info/population/countries-in-africa-by-population/\n",
    "\n",
    "https://african.business/2012/09/economy/major-brands-in-africa/"
   ]
  },
  {
   "cell_type": "code",
   "execution_count": null,
   "id": "b44ccc17",
   "metadata": {},
   "outputs": [],
   "source": []
  }
 ],
 "metadata": {
  "hide_input": true,
  "kernelspec": {
   "display_name": "Python 3 (ipykernel)",
   "language": "python",
   "name": "python3"
  },
  "language_info": {
   "codemirror_mode": {
    "name": "ipython",
    "version": 3
   },
   "file_extension": ".py",
   "mimetype": "text/x-python",
   "name": "python",
   "nbconvert_exporter": "python",
   "pygments_lexer": "ipython3",
   "version": "3.9.7"
  }
 },
 "nbformat": 4,
 "nbformat_minor": 5
}
